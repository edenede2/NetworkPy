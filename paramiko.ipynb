{
 "cells": [
  {
   "cell_type": "code",
   "execution_count": 12,
   "metadata": {},
   "outputs": [],
   "source": [
    "from paramiko import SSHClient, AutoAddPolicy\n",
    "from rich import print, pretty, inspect\n",
    "import subprocess\n",
    "pretty.install()\n",
    "import os"
   ]
  },
  {
   "cell_type": "code",
   "execution_count": 9,
   "metadata": {},
   "outputs": [
    {
     "data": {
      "text/html": [
       "<pre style=\"white-space:pre;overflow-x:auto;line-height:normal;font-family:Menlo,'DejaVu Sans Mono',consolas,'Courier New',monospace\"><span style=\"color: #800080; text-decoration-color: #800080\">/Users/edeneldar/Desktop/</span><span style=\"color: #ff00ff; text-decoration-color: #ff00ff\">NetworkPy</span>\n",
       "\n",
       "</pre>\n"
      ],
      "text/plain": [
       "\u001b[35m/Users/edeneldar/Desktop/\u001b[0m\u001b[95mNetworkPy\u001b[0m\n",
       "\n"
      ]
     },
     "metadata": {},
     "output_type": "display_data"
    }
   ],
   "source": [
    "command = \"pwd\"\n",
    "\n",
    "# Use the subprocess module to run the command\n",
    "result = subprocess.run(command, shell=True, capture_output=True, text=True)\n",
    "print(result.stdout)"
   ]
  },
  {
   "cell_type": "code",
   "execution_count": 64,
   "metadata": {},
   "outputs": [
    {
     "data": {
      "text/html": [
       "<pre style=\"white-space:pre;overflow-x:auto;line-height:normal;font-family:Menlo,'DejaVu Sans Mono',consolas,'Courier New',monospace\"><span style=\"color: #000080; text-decoration-color: #000080\">╭────────────────────────────────────── </span><span style=\"color: #000080; text-decoration-color: #000080; font-weight: bold\">&lt;</span><span style=\"color: #ff00ff; text-decoration-color: #ff00ff; font-weight: bold\">class</span><span style=\"color: #000000; text-decoration-color: #000000\"> </span><span style=\"color: #008000; text-decoration-color: #008000\">'paramiko.client.SSHClient'</span><span style=\"color: #000080; text-decoration-color: #000080; font-weight: bold\">&gt;</span><span style=\"color: #000080; text-decoration-color: #000080\"> ──────────────────────────────────────╮</span>\n",
       "<span style=\"color: #000080; text-decoration-color: #000080\">│</span> <span style=\"color: #008080; text-decoration-color: #008080\">A high-level representation of a session with an SSH server.  This class</span>                                        <span style=\"color: #000080; text-decoration-color: #000080\">│</span>\n",
       "<span style=\"color: #000080; text-decoration-color: #000080\">│</span> <span style=\"color: #008080; text-decoration-color: #008080\">wraps `.Transport`, `.Channel`, and `.SFTPClient` to take care of most</span>                                          <span style=\"color: #000080; text-decoration-color: #000080\">│</span>\n",
       "<span style=\"color: #000080; text-decoration-color: #000080\">│</span> <span style=\"color: #008080; text-decoration-color: #008080\">aspects of authenticating and opening channels.  A typical use case is::</span>                                        <span style=\"color: #000080; text-decoration-color: #000080\">│</span>\n",
       "<span style=\"color: #000080; text-decoration-color: #000080\">│</span>                                                                                                                 <span style=\"color: #000080; text-decoration-color: #000080\">│</span>\n",
       "<span style=\"color: #000080; text-decoration-color: #000080\">│</span> <span style=\"color: #008000; text-decoration-color: #008000\">╭─────────────────────────────────────────────────────────────────────────────────────────────────────────────╮</span> <span style=\"color: #000080; text-decoration-color: #000080\">│</span>\n",
       "<span style=\"color: #000080; text-decoration-color: #000080\">│</span> <span style=\"color: #008000; text-decoration-color: #008000\">│</span> <span style=\"font-weight: bold\">&lt;</span><span style=\"color: #ff00ff; text-decoration-color: #ff00ff; font-weight: bold\">paramiko.client.SSHClient</span><span style=\"color: #000000; text-decoration-color: #000000\"> object at </span><span style=\"color: #008080; text-decoration-color: #008080; font-weight: bold\">0x10cc4fe90</span><span style=\"font-weight: bold\">&gt;</span>                                                           <span style=\"color: #008000; text-decoration-color: #008000\">│</span> <span style=\"color: #000080; text-decoration-color: #000080\">│</span>\n",
       "<span style=\"color: #000080; text-decoration-color: #000080\">│</span> <span style=\"color: #008000; text-decoration-color: #008000\">╰─────────────────────────────────────────────────────────────────────────────────────────────────────────────╯</span> <span style=\"color: #000080; text-decoration-color: #000080\">│</span>\n",
       "<span style=\"color: #000080; text-decoration-color: #000080\">│</span>                                                                                                                 <span style=\"color: #000080; text-decoration-color: #000080\">│</span>\n",
       "<span style=\"color: #000080; text-decoration-color: #000080\">│</span>                       <span style=\"color: #808000; text-decoration-color: #808000; font-style: italic\">close</span> = <span style=\"color: #00ffff; text-decoration-color: #00ffff; font-style: italic\">def </span><span style=\"color: #800000; text-decoration-color: #800000; font-weight: bold\">close</span><span style=\"font-weight: bold\">()</span>: <span style=\"color: #7f7f7f; text-decoration-color: #7f7f7f\">Close this SSHClient and its underlying `.Transport`.</span>                <span style=\"color: #000080; text-decoration-color: #000080\">│</span>\n",
       "<span style=\"color: #000080; text-decoration-color: #000080\">│</span>                     <span style=\"color: #808000; text-decoration-color: #808000; font-style: italic\">connect</span> = <span style=\"color: #00ffff; text-decoration-color: #00ffff; font-style: italic\">def </span><span style=\"color: #800000; text-decoration-color: #800000; font-weight: bold\">connect</span><span style=\"font-weight: bold\">(</span>hostname, <span style=\"color: #808000; text-decoration-color: #808000\">port</span>=<span style=\"color: #008080; text-decoration-color: #008080; font-weight: bold\">22</span>, <span style=\"color: #808000; text-decoration-color: #808000\">username</span>=<span style=\"color: #800080; text-decoration-color: #800080; font-style: italic\">None</span>, <span style=\"color: #808000; text-decoration-color: #808000\">password</span>=<span style=\"color: #800080; text-decoration-color: #800080; font-style: italic\">None</span>, <span style=\"color: #808000; text-decoration-color: #808000\">pkey</span>=<span style=\"color: #800080; text-decoration-color: #800080; font-style: italic\">None</span>,           <span style=\"color: #000080; text-decoration-color: #000080\">│</span>\n",
       "<span style=\"color: #000080; text-decoration-color: #000080\">│</span>                               <span style=\"color: #808000; text-decoration-color: #808000\">key_filename</span>=<span style=\"color: #800080; text-decoration-color: #800080; font-style: italic\">None</span>, <span style=\"color: #808000; text-decoration-color: #808000\">timeout</span>=<span style=\"color: #800080; text-decoration-color: #800080; font-style: italic\">None</span>, <span style=\"color: #808000; text-decoration-color: #808000\">allow_agent</span>=<span style=\"color: #00ff00; text-decoration-color: #00ff00; font-style: italic\">True</span>, <span style=\"color: #808000; text-decoration-color: #808000\">look_for_keys</span>=<span style=\"color: #00ff00; text-decoration-color: #00ff00; font-style: italic\">True</span>,            <span style=\"color: #000080; text-decoration-color: #000080\">│</span>\n",
       "<span style=\"color: #000080; text-decoration-color: #000080\">│</span>                               <span style=\"color: #808000; text-decoration-color: #808000\">compress</span>=<span style=\"color: #ff0000; text-decoration-color: #ff0000; font-style: italic\">False</span>, <span style=\"color: #808000; text-decoration-color: #808000\">sock</span>=<span style=\"color: #800080; text-decoration-color: #800080; font-style: italic\">None</span>, <span style=\"color: #808000; text-decoration-color: #808000\">gss_auth</span>=<span style=\"color: #ff0000; text-decoration-color: #ff0000; font-style: italic\">False</span>, <span style=\"color: #808000; text-decoration-color: #808000\">gss_kex</span>=<span style=\"color: #ff0000; text-decoration-color: #ff0000; font-style: italic\">False</span>, <span style=\"color: #808000; text-decoration-color: #808000\">gss_deleg_creds</span>=<span style=\"color: #00ff00; text-decoration-color: #00ff00; font-style: italic\">True</span>,   <span style=\"color: #000080; text-decoration-color: #000080\">│</span>\n",
       "<span style=\"color: #000080; text-decoration-color: #000080\">│</span>                               <span style=\"color: #808000; text-decoration-color: #808000\">gss_host</span>=<span style=\"color: #800080; text-decoration-color: #800080; font-style: italic\">None</span>, <span style=\"color: #808000; text-decoration-color: #808000\">banner_timeout</span>=<span style=\"color: #800080; text-decoration-color: #800080; font-style: italic\">None</span>, <span style=\"color: #808000; text-decoration-color: #808000\">auth_timeout</span>=<span style=\"color: #800080; text-decoration-color: #800080; font-style: italic\">None</span>, <span style=\"color: #808000; text-decoration-color: #808000\">channel_timeout</span>=<span style=\"color: #800080; text-decoration-color: #800080; font-style: italic\">None</span>,      <span style=\"color: #000080; text-decoration-color: #000080\">│</span>\n",
       "<span style=\"color: #000080; text-decoration-color: #000080\">│</span>                               <span style=\"color: #808000; text-decoration-color: #808000\">gss_trust_dns</span>=<span style=\"color: #00ff00; text-decoration-color: #00ff00; font-style: italic\">True</span>, <span style=\"color: #808000; text-decoration-color: #808000\">passphrase</span>=<span style=\"color: #800080; text-decoration-color: #800080; font-style: italic\">None</span>, <span style=\"color: #808000; text-decoration-color: #808000\">disabled_algorithms</span>=<span style=\"color: #800080; text-decoration-color: #800080; font-style: italic\">None</span>,                    <span style=\"color: #000080; text-decoration-color: #000080\">│</span>\n",
       "<span style=\"color: #000080; text-decoration-color: #000080\">│</span>                               <span style=\"color: #808000; text-decoration-color: #808000\">transport_factory</span>=<span style=\"color: #800080; text-decoration-color: #800080; font-style: italic\">None</span>, <span style=\"color: #808000; text-decoration-color: #808000\">auth_strategy</span>=<span style=\"color: #800080; text-decoration-color: #800080; font-style: italic\">None</span><span style=\"font-weight: bold\">)</span>:                                      <span style=\"color: #000080; text-decoration-color: #000080\">│</span>\n",
       "<span style=\"color: #000080; text-decoration-color: #000080\">│</span>                               <span style=\"color: #7f7f7f; text-decoration-color: #7f7f7f\">Connect to an SSH server and authenticate to it.  The server's host key</span>           <span style=\"color: #000080; text-decoration-color: #000080\">│</span>\n",
       "<span style=\"color: #000080; text-decoration-color: #000080\">│</span>                               <span style=\"color: #7f7f7f; text-decoration-color: #7f7f7f\">is checked against the system host keys </span><span style=\"color: #7f7f7f; text-decoration-color: #7f7f7f; font-weight: bold\">(</span><span style=\"color: #7f7f7f; text-decoration-color: #7f7f7f\">see `load_system_host_keys`</span><span style=\"color: #7f7f7f; text-decoration-color: #7f7f7f; font-weight: bold\">)</span>             <span style=\"color: #000080; text-decoration-color: #000080\">│</span>\n",
       "<span style=\"color: #000080; text-decoration-color: #000080\">│</span>                               <span style=\"color: #7f7f7f; text-decoration-color: #7f7f7f\">and any local host keys </span><span style=\"color: #7f7f7f; text-decoration-color: #7f7f7f; font-weight: bold\">(</span><span style=\"color: #7f7f7f; text-decoration-color: #7f7f7f\">`load_host_keys`</span><span style=\"color: #7f7f7f; text-decoration-color: #7f7f7f; font-weight: bold\">)</span><span style=\"color: #7f7f7f; text-decoration-color: #7f7f7f\">.  If the server's hostname</span>             <span style=\"color: #000080; text-decoration-color: #000080\">│</span>\n",
       "<span style=\"color: #000080; text-decoration-color: #000080\">│</span>                               <span style=\"color: #7f7f7f; text-decoration-color: #7f7f7f\">is not found in either set of host keys, the missing host key policy</span>              <span style=\"color: #000080; text-decoration-color: #000080\">│</span>\n",
       "<span style=\"color: #000080; text-decoration-color: #000080\">│</span>                               <span style=\"color: #7f7f7f; text-decoration-color: #7f7f7f\">is used </span><span style=\"color: #7f7f7f; text-decoration-color: #7f7f7f; font-weight: bold\">(</span><span style=\"color: #7f7f7f; text-decoration-color: #7f7f7f\">see `set_missing_host_key_policy`</span><span style=\"color: #7f7f7f; text-decoration-color: #7f7f7f; font-weight: bold\">)</span><span style=\"color: #7f7f7f; text-decoration-color: #7f7f7f\">.  The default policy is</span>               <span style=\"color: #000080; text-decoration-color: #000080\">│</span>\n",
       "<span style=\"color: #000080; text-decoration-color: #000080\">│</span>                               <span style=\"color: #7f7f7f; text-decoration-color: #7f7f7f\">to reject the key and raise an `.SSHException`.</span>                                   <span style=\"color: #000080; text-decoration-color: #000080\">│</span>\n",
       "<span style=\"color: #000080; text-decoration-color: #000080\">│</span>                <span style=\"color: #808000; text-decoration-color: #808000; font-style: italic\">exec_command</span> = <span style=\"color: #00ffff; text-decoration-color: #00ffff; font-style: italic\">def </span><span style=\"color: #800000; text-decoration-color: #800000; font-weight: bold\">exec_command</span><span style=\"font-weight: bold\">(</span>command, <span style=\"color: #808000; text-decoration-color: #808000\">bufsize</span>=<span style=\"color: #008080; text-decoration-color: #008080; font-weight: bold\">-1</span>, <span style=\"color: #808000; text-decoration-color: #808000\">timeout</span>=<span style=\"color: #800080; text-decoration-color: #800080; font-style: italic\">None</span>, <span style=\"color: #808000; text-decoration-color: #808000\">get_pty</span>=<span style=\"color: #ff0000; text-decoration-color: #ff0000; font-style: italic\">False</span>,                <span style=\"color: #000080; text-decoration-color: #000080\">│</span>\n",
       "<span style=\"color: #000080; text-decoration-color: #000080\">│</span>                               <span style=\"color: #808000; text-decoration-color: #808000\">environment</span>=<span style=\"color: #800080; text-decoration-color: #800080; font-style: italic\">None</span><span style=\"font-weight: bold\">)</span>:                                                                <span style=\"color: #000080; text-decoration-color: #000080\">│</span>\n",
       "<span style=\"color: #000080; text-decoration-color: #000080\">│</span>                               <span style=\"color: #7f7f7f; text-decoration-color: #7f7f7f\">Execute a command on the SSH server.  A new `.Channel` is opened and</span>              <span style=\"color: #000080; text-decoration-color: #000080\">│</span>\n",
       "<span style=\"color: #000080; text-decoration-color: #000080\">│</span>                               <span style=\"color: #7f7f7f; text-decoration-color: #7f7f7f\">the requested command is executed.  The command's input and output</span>                <span style=\"color: #000080; text-decoration-color: #000080\">│</span>\n",
       "<span style=\"color: #000080; text-decoration-color: #000080\">│</span>                               <span style=\"color: #7f7f7f; text-decoration-color: #7f7f7f\">streams are returned as Python ``file``-like objects representing</span>                 <span style=\"color: #000080; text-decoration-color: #000080\">│</span>\n",
       "<span style=\"color: #000080; text-decoration-color: #000080\">│</span>                               <span style=\"color: #7f7f7f; text-decoration-color: #7f7f7f\">stdin, stdout, and stderr.</span>                                                        <span style=\"color: #000080; text-decoration-color: #000080\">│</span>\n",
       "<span style=\"color: #000080; text-decoration-color: #000080\">│</span>               <span style=\"color: #808000; text-decoration-color: #808000; font-style: italic\">get_host_keys</span> = <span style=\"color: #00ffff; text-decoration-color: #00ffff; font-style: italic\">def </span><span style=\"color: #800000; text-decoration-color: #800000; font-weight: bold\">get_host_keys</span><span style=\"font-weight: bold\">()</span>:                                                              <span style=\"color: #000080; text-decoration-color: #000080\">│</span>\n",
       "<span style=\"color: #000080; text-decoration-color: #000080\">│</span>                               <span style=\"color: #7f7f7f; text-decoration-color: #7f7f7f\">Get the local `.HostKeys` object.  This can be used to examine the</span>                <span style=\"color: #000080; text-decoration-color: #000080\">│</span>\n",
       "<span style=\"color: #000080; text-decoration-color: #000080\">│</span>                               <span style=\"color: #7f7f7f; text-decoration-color: #7f7f7f\">local host keys or change them.</span>                                                   <span style=\"color: #000080; text-decoration-color: #000080\">│</span>\n",
       "<span style=\"color: #000080; text-decoration-color: #000080\">│</span>               <span style=\"color: #808000; text-decoration-color: #808000; font-style: italic\">get_transport</span> = <span style=\"color: #00ffff; text-decoration-color: #00ffff; font-style: italic\">def </span><span style=\"color: #800000; text-decoration-color: #800000; font-weight: bold\">get_transport</span><span style=\"font-weight: bold\">()</span>:                                                              <span style=\"color: #000080; text-decoration-color: #000080\">│</span>\n",
       "<span style=\"color: #000080; text-decoration-color: #000080\">│</span>                               <span style=\"color: #7f7f7f; text-decoration-color: #7f7f7f\">Return the underlying `.Transport` object for this SSH connection.</span>                <span style=\"color: #000080; text-decoration-color: #000080\">│</span>\n",
       "<span style=\"color: #000080; text-decoration-color: #000080\">│</span>                               <span style=\"color: #7f7f7f; text-decoration-color: #7f7f7f\">This can be used to perform lower-level tasks, like opening specific</span>              <span style=\"color: #000080; text-decoration-color: #000080\">│</span>\n",
       "<span style=\"color: #000080; text-decoration-color: #000080\">│</span>                               <span style=\"color: #7f7f7f; text-decoration-color: #7f7f7f\">kinds of channels.</span>                                                                <span style=\"color: #000080; text-decoration-color: #000080\">│</span>\n",
       "<span style=\"color: #000080; text-decoration-color: #000080\">│</span>                <span style=\"color: #808000; text-decoration-color: #808000; font-style: italic\">invoke_shell</span> = <span style=\"color: #00ffff; text-decoration-color: #00ffff; font-style: italic\">def </span><span style=\"color: #800000; text-decoration-color: #800000; font-weight: bold\">invoke_shell</span><span style=\"font-weight: bold\">(</span><span style=\"color: #808000; text-decoration-color: #808000\">term</span>=<span style=\"color: #008000; text-decoration-color: #008000\">'vt100'</span>, <span style=\"color: #808000; text-decoration-color: #808000\">width</span>=<span style=\"color: #008080; text-decoration-color: #008080; font-weight: bold\">80</span>, <span style=\"color: #808000; text-decoration-color: #808000\">height</span>=<span style=\"color: #008080; text-decoration-color: #008080; font-weight: bold\">24</span>, <span style=\"color: #808000; text-decoration-color: #808000\">width_pixels</span>=<span style=\"color: #008080; text-decoration-color: #008080; font-weight: bold\">0</span>,               <span style=\"color: #000080; text-decoration-color: #000080\">│</span>\n",
       "<span style=\"color: #000080; text-decoration-color: #000080\">│</span>                               <span style=\"color: #808000; text-decoration-color: #808000\">height_pixels</span>=<span style=\"color: #008080; text-decoration-color: #008080; font-weight: bold\">0</span>, <span style=\"color: #808000; text-decoration-color: #808000\">environment</span>=<span style=\"color: #800080; text-decoration-color: #800080; font-style: italic\">None</span><span style=\"font-weight: bold\">)</span>:                                               <span style=\"color: #000080; text-decoration-color: #000080\">│</span>\n",
       "<span style=\"color: #000080; text-decoration-color: #000080\">│</span>                               <span style=\"color: #7f7f7f; text-decoration-color: #7f7f7f\">Start an interactive shell session on the SSH server.  A new `.Channel`</span>           <span style=\"color: #000080; text-decoration-color: #000080\">│</span>\n",
       "<span style=\"color: #000080; text-decoration-color: #000080\">│</span>                               <span style=\"color: #7f7f7f; text-decoration-color: #7f7f7f\">is opened and connected to a pseudo-terminal using the requested</span>                  <span style=\"color: #000080; text-decoration-color: #000080\">│</span>\n",
       "<span style=\"color: #000080; text-decoration-color: #000080\">│</span>                               <span style=\"color: #7f7f7f; text-decoration-color: #7f7f7f\">terminal type and size.</span>                                                           <span style=\"color: #000080; text-decoration-color: #000080\">│</span>\n",
       "<span style=\"color: #000080; text-decoration-color: #000080\">│</span>              <span style=\"color: #808000; text-decoration-color: #808000; font-style: italic\">load_host_keys</span> = <span style=\"color: #00ffff; text-decoration-color: #00ffff; font-style: italic\">def </span><span style=\"color: #800000; text-decoration-color: #800000; font-weight: bold\">load_host_keys</span><span style=\"font-weight: bold\">(</span>filename<span style=\"font-weight: bold\">)</span>:                                                     <span style=\"color: #000080; text-decoration-color: #000080\">│</span>\n",
       "<span style=\"color: #000080; text-decoration-color: #000080\">│</span>                               <span style=\"color: #7f7f7f; text-decoration-color: #7f7f7f\">Load host keys from a local host-key file.  Host keys read with this</span>              <span style=\"color: #000080; text-decoration-color: #000080\">│</span>\n",
       "<span style=\"color: #000080; text-decoration-color: #000080\">│</span>                               <span style=\"color: #7f7f7f; text-decoration-color: #7f7f7f\">method will be checked after keys loaded via `load_system_host_keys`,</span>             <span style=\"color: #000080; text-decoration-color: #000080\">│</span>\n",
       "<span style=\"color: #000080; text-decoration-color: #000080\">│</span>                               <span style=\"color: #7f7f7f; text-decoration-color: #7f7f7f\">but will be saved back by `save_host_keys` </span><span style=\"color: #7f7f7f; text-decoration-color: #7f7f7f; font-weight: bold\">(</span><span style=\"color: #7f7f7f; text-decoration-color: #7f7f7f\">so they can be modified</span><span style=\"color: #7f7f7f; text-decoration-color: #7f7f7f; font-weight: bold\">)</span><span style=\"color: #7f7f7f; text-decoration-color: #7f7f7f\">.</span>             <span style=\"color: #000080; text-decoration-color: #000080\">│</span>\n",
       "<span style=\"color: #000080; text-decoration-color: #000080\">│</span>                               <span style=\"color: #7f7f7f; text-decoration-color: #7f7f7f\">The missing host key policy `.AutoAddPolicy` adds keys to this set and</span>            <span style=\"color: #000080; text-decoration-color: #000080\">│</span>\n",
       "<span style=\"color: #000080; text-decoration-color: #000080\">│</span>                               <span style=\"color: #7f7f7f; text-decoration-color: #7f7f7f\">saves them, when connecting to a previously-unknown server.</span>                       <span style=\"color: #000080; text-decoration-color: #000080\">│</span>\n",
       "<span style=\"color: #000080; text-decoration-color: #000080\">│</span>       <span style=\"color: #808000; text-decoration-color: #808000; font-style: italic\">load_system_host_keys</span> = <span style=\"color: #00ffff; text-decoration-color: #00ffff; font-style: italic\">def </span><span style=\"color: #800000; text-decoration-color: #800000; font-weight: bold\">load_system_host_keys</span><span style=\"font-weight: bold\">(</span><span style=\"color: #808000; text-decoration-color: #808000\">filename</span>=<span style=\"color: #800080; text-decoration-color: #800080; font-style: italic\">None</span><span style=\"font-weight: bold\">)</span>:                                         <span style=\"color: #000080; text-decoration-color: #000080\">│</span>\n",
       "<span style=\"color: #000080; text-decoration-color: #000080\">│</span>                               <span style=\"color: #7f7f7f; text-decoration-color: #7f7f7f\">Load host keys from a system </span><span style=\"color: #7f7f7f; text-decoration-color: #7f7f7f; font-weight: bold\">(</span><span style=\"color: #7f7f7f; text-decoration-color: #7f7f7f\">read-only</span><span style=\"color: #7f7f7f; text-decoration-color: #7f7f7f; font-weight: bold\">)</span><span style=\"color: #7f7f7f; text-decoration-color: #7f7f7f\"> file.  Host keys read with</span>               <span style=\"color: #000080; text-decoration-color: #000080\">│</span>\n",
       "<span style=\"color: #000080; text-decoration-color: #000080\">│</span>                               <span style=\"color: #7f7f7f; text-decoration-color: #7f7f7f\">this method will not be saved back by `save_host_keys`.</span>                           <span style=\"color: #000080; text-decoration-color: #000080\">│</span>\n",
       "<span style=\"color: #000080; text-decoration-color: #000080\">│</span>                   <span style=\"color: #808000; text-decoration-color: #808000; font-style: italic\">open_sftp</span> = <span style=\"color: #00ffff; text-decoration-color: #00ffff; font-style: italic\">def </span><span style=\"color: #800000; text-decoration-color: #800000; font-weight: bold\">open_sftp</span><span style=\"font-weight: bold\">()</span>: <span style=\"color: #7f7f7f; text-decoration-color: #7f7f7f\">Open an SFTP session on the SSH server.</span>                          <span style=\"color: #000080; text-decoration-color: #000080\">│</span>\n",
       "<span style=\"color: #000080; text-decoration-color: #000080\">│</span>              <span style=\"color: #808000; text-decoration-color: #808000; font-style: italic\">save_host_keys</span> = <span style=\"color: #00ffff; text-decoration-color: #00ffff; font-style: italic\">def </span><span style=\"color: #800000; text-decoration-color: #800000; font-weight: bold\">save_host_keys</span><span style=\"font-weight: bold\">(</span>filename<span style=\"font-weight: bold\">)</span>:                                                     <span style=\"color: #000080; text-decoration-color: #000080\">│</span>\n",
       "<span style=\"color: #000080; text-decoration-color: #000080\">│</span>                               <span style=\"color: #7f7f7f; text-decoration-color: #7f7f7f\">Save the host keys back to a file.  Only the host keys loaded with</span>                <span style=\"color: #000080; text-decoration-color: #000080\">│</span>\n",
       "<span style=\"color: #000080; text-decoration-color: #000080\">│</span>                               <span style=\"color: #7f7f7f; text-decoration-color: #7f7f7f\">`load_host_keys` </span><span style=\"color: #7f7f7f; text-decoration-color: #7f7f7f; font-weight: bold\">(</span><span style=\"color: #7f7f7f; text-decoration-color: #7f7f7f\">plus any added directly</span><span style=\"color: #7f7f7f; text-decoration-color: #7f7f7f; font-weight: bold\">)</span><span style=\"color: #7f7f7f; text-decoration-color: #7f7f7f\"> will be saved -- not any</span>               <span style=\"color: #000080; text-decoration-color: #000080\">│</span>\n",
       "<span style=\"color: #000080; text-decoration-color: #000080\">│</span>                               <span style=\"color: #7f7f7f; text-decoration-color: #7f7f7f\">host keys loaded with `load_system_host_keys`.</span>                                    <span style=\"color: #000080; text-decoration-color: #000080\">│</span>\n",
       "<span style=\"color: #000080; text-decoration-color: #000080\">│</span>             <span style=\"color: #808000; text-decoration-color: #808000; font-style: italic\">set_log_channel</span> = <span style=\"color: #00ffff; text-decoration-color: #00ffff; font-style: italic\">def </span><span style=\"color: #800000; text-decoration-color: #800000; font-weight: bold\">set_log_channel</span><span style=\"font-weight: bold\">(</span>name<span style=\"font-weight: bold\">)</span>:                                                        <span style=\"color: #000080; text-decoration-color: #000080\">│</span>\n",
       "<span style=\"color: #000080; text-decoration-color: #000080\">│</span>                               <span style=\"color: #7f7f7f; text-decoration-color: #7f7f7f\">Set the channel for logging.  The default is ``</span><span style=\"color: #7fbf7f; text-decoration-color: #7fbf7f\">\"paramiko.transport\"</span><span style=\"color: #7f7f7f; text-decoration-color: #7f7f7f\">``</span>             <span style=\"color: #000080; text-decoration-color: #000080\">│</span>\n",
       "<span style=\"color: #000080; text-decoration-color: #000080\">│</span>                               <span style=\"color: #7f7f7f; text-decoration-color: #7f7f7f\">but it can be set to anything you want.</span>                                           <span style=\"color: #000080; text-decoration-color: #000080\">│</span>\n",
       "<span style=\"color: #000080; text-decoration-color: #000080\">│</span> <span style=\"color: #808000; text-decoration-color: #808000; font-style: italic\">set_missing_host_key_policy</span> = <span style=\"color: #00ffff; text-decoration-color: #00ffff; font-style: italic\">def </span><span style=\"color: #800000; text-decoration-color: #800000; font-weight: bold\">set_missing_host_key_policy</span><span style=\"font-weight: bold\">(</span>policy<span style=\"font-weight: bold\">)</span>: <span style=\"color: #7f7f7f; text-decoration-color: #7f7f7f\">Set policy to use when connecting to </span>    <span style=\"color: #000080; text-decoration-color: #000080\">│</span>\n",
       "<span style=\"color: #000080; text-decoration-color: #000080\">│</span>                               <span style=\"color: #7f7f7f; text-decoration-color: #7f7f7f\">servers without a known host key.</span>                                                 <span style=\"color: #000080; text-decoration-color: #000080\">│</span>\n",
       "<span style=\"color: #000080; text-decoration-color: #000080\">╰─────────────────────────────────────────────────────────────────────────────────────────────────────────────────╯</span>\n",
       "</pre>\n"
      ],
      "text/plain": [
       "\u001b[34m╭─\u001b[0m\u001b[34m─────────────────────────────────────\u001b[0m\u001b[34m \u001b[0m\u001b[1;34m<\u001b[0m\u001b[1;95mclass\u001b[0m\u001b[39m \u001b[0m\u001b[32m'paramiko.client.SSHClient'\u001b[0m\u001b[1;34m>\u001b[0m\u001b[34m \u001b[0m\u001b[34m─────────────────────────────────────\u001b[0m\u001b[34m─╮\u001b[0m\n",
       "\u001b[34m│\u001b[0m \u001b[36mA high-level representation of a session with an SSH server.  This class\u001b[0m                                        \u001b[34m│\u001b[0m\n",
       "\u001b[34m│\u001b[0m \u001b[36mwraps `.Transport`, `.Channel`, and `.SFTPClient` to take care of most\u001b[0m                                          \u001b[34m│\u001b[0m\n",
       "\u001b[34m│\u001b[0m \u001b[36maspects of authenticating and opening channels.  A typical use case is::\u001b[0m                                        \u001b[34m│\u001b[0m\n",
       "\u001b[34m│\u001b[0m                                                                                                                 \u001b[34m│\u001b[0m\n",
       "\u001b[34m│\u001b[0m \u001b[32m╭─────────────────────────────────────────────────────────────────────────────────────────────────────────────╮\u001b[0m \u001b[34m│\u001b[0m\n",
       "\u001b[34m│\u001b[0m \u001b[32m│\u001b[0m \u001b[1m<\u001b[0m\u001b[1;95mparamiko.client.SSHClient\u001b[0m\u001b[39m object at \u001b[0m\u001b[1;36m0x10cc4fe90\u001b[0m\u001b[1m>\u001b[0m                                                           \u001b[32m│\u001b[0m \u001b[34m│\u001b[0m\n",
       "\u001b[34m│\u001b[0m \u001b[32m╰─────────────────────────────────────────────────────────────────────────────────────────────────────────────╯\u001b[0m \u001b[34m│\u001b[0m\n",
       "\u001b[34m│\u001b[0m                                                                                                                 \u001b[34m│\u001b[0m\n",
       "\u001b[34m│\u001b[0m                       \u001b[3;33mclose\u001b[0m = \u001b[3;96mdef \u001b[0m\u001b[1;31mclose\u001b[0m\u001b[1m(\u001b[0m\u001b[1m)\u001b[0m: \u001b[2mClose this SSHClient and its underlying `.Transport`.\u001b[0m                \u001b[34m│\u001b[0m\n",
       "\u001b[34m│\u001b[0m                     \u001b[3;33mconnect\u001b[0m = \u001b[3;96mdef \u001b[0m\u001b[1;31mconnect\u001b[0m\u001b[1m(\u001b[0mhostname, \u001b[33mport\u001b[0m=\u001b[1;36m22\u001b[0m, \u001b[33musername\u001b[0m=\u001b[3;35mNone\u001b[0m, \u001b[33mpassword\u001b[0m=\u001b[3;35mNone\u001b[0m, \u001b[33mpkey\u001b[0m=\u001b[3;35mNone\u001b[0m,           \u001b[34m│\u001b[0m\n",
       "\u001b[34m│\u001b[0m                               \u001b[33mkey_filename\u001b[0m=\u001b[3;35mNone\u001b[0m, \u001b[33mtimeout\u001b[0m=\u001b[3;35mNone\u001b[0m, \u001b[33mallow_agent\u001b[0m=\u001b[3;92mTrue\u001b[0m, \u001b[33mlook_for_keys\u001b[0m=\u001b[3;92mTrue\u001b[0m,            \u001b[34m│\u001b[0m\n",
       "\u001b[34m│\u001b[0m                               \u001b[33mcompress\u001b[0m=\u001b[3;91mFalse\u001b[0m, \u001b[33msock\u001b[0m=\u001b[3;35mNone\u001b[0m, \u001b[33mgss_auth\u001b[0m=\u001b[3;91mFalse\u001b[0m, \u001b[33mgss_kex\u001b[0m=\u001b[3;91mFalse\u001b[0m, \u001b[33mgss_deleg_creds\u001b[0m=\u001b[3;92mTrue\u001b[0m,   \u001b[34m│\u001b[0m\n",
       "\u001b[34m│\u001b[0m                               \u001b[33mgss_host\u001b[0m=\u001b[3;35mNone\u001b[0m, \u001b[33mbanner_timeout\u001b[0m=\u001b[3;35mNone\u001b[0m, \u001b[33mauth_timeout\u001b[0m=\u001b[3;35mNone\u001b[0m, \u001b[33mchannel_timeout\u001b[0m=\u001b[3;35mNone\u001b[0m,      \u001b[34m│\u001b[0m\n",
       "\u001b[34m│\u001b[0m                               \u001b[33mgss_trust_dns\u001b[0m=\u001b[3;92mTrue\u001b[0m, \u001b[33mpassphrase\u001b[0m=\u001b[3;35mNone\u001b[0m, \u001b[33mdisabled_algorithms\u001b[0m=\u001b[3;35mNone\u001b[0m,                    \u001b[34m│\u001b[0m\n",
       "\u001b[34m│\u001b[0m                               \u001b[33mtransport_factory\u001b[0m=\u001b[3;35mNone\u001b[0m, \u001b[33mauth_strategy\u001b[0m=\u001b[3;35mNone\u001b[0m\u001b[1m)\u001b[0m:                                      \u001b[34m│\u001b[0m\n",
       "\u001b[34m│\u001b[0m                               \u001b[2mConnect to an SSH server and authenticate to it.  The server's host key\u001b[0m           \u001b[34m│\u001b[0m\n",
       "\u001b[34m│\u001b[0m                               \u001b[2mis checked against the system host keys \u001b[0m\u001b[1;2m(\u001b[0m\u001b[2msee `load_system_host_keys`\u001b[0m\u001b[1;2m)\u001b[0m             \u001b[34m│\u001b[0m\n",
       "\u001b[34m│\u001b[0m                               \u001b[2mand any local host keys \u001b[0m\u001b[1;2m(\u001b[0m\u001b[2m`load_host_keys`\u001b[0m\u001b[1;2m)\u001b[0m\u001b[2m.  If the server's hostname\u001b[0m             \u001b[34m│\u001b[0m\n",
       "\u001b[34m│\u001b[0m                               \u001b[2mis not found in either set of host keys, the missing host key policy\u001b[0m              \u001b[34m│\u001b[0m\n",
       "\u001b[34m│\u001b[0m                               \u001b[2mis used \u001b[0m\u001b[1;2m(\u001b[0m\u001b[2msee `set_missing_host_key_policy`\u001b[0m\u001b[1;2m)\u001b[0m\u001b[2m.  The default policy is\u001b[0m               \u001b[34m│\u001b[0m\n",
       "\u001b[34m│\u001b[0m                               \u001b[2mto reject the key and raise an `.SSHException`.\u001b[0m                                   \u001b[34m│\u001b[0m\n",
       "\u001b[34m│\u001b[0m                \u001b[3;33mexec_command\u001b[0m = \u001b[3;96mdef \u001b[0m\u001b[1;31mexec_command\u001b[0m\u001b[1m(\u001b[0mcommand, \u001b[33mbufsize\u001b[0m=\u001b[1;36m-1\u001b[0m, \u001b[33mtimeout\u001b[0m=\u001b[3;35mNone\u001b[0m, \u001b[33mget_pty\u001b[0m=\u001b[3;91mFalse\u001b[0m,                \u001b[34m│\u001b[0m\n",
       "\u001b[34m│\u001b[0m                               \u001b[33menvironment\u001b[0m=\u001b[3;35mNone\u001b[0m\u001b[1m)\u001b[0m:                                                                \u001b[34m│\u001b[0m\n",
       "\u001b[34m│\u001b[0m                               \u001b[2mExecute a command on the SSH server.  A new `.Channel` is opened and\u001b[0m              \u001b[34m│\u001b[0m\n",
       "\u001b[34m│\u001b[0m                               \u001b[2mthe requested command is executed.  The command's input and output\u001b[0m                \u001b[34m│\u001b[0m\n",
       "\u001b[34m│\u001b[0m                               \u001b[2mstreams are returned as Python ``file``-like objects representing\u001b[0m                 \u001b[34m│\u001b[0m\n",
       "\u001b[34m│\u001b[0m                               \u001b[2mstdin, stdout, and stderr.\u001b[0m                                                        \u001b[34m│\u001b[0m\n",
       "\u001b[34m│\u001b[0m               \u001b[3;33mget_host_keys\u001b[0m = \u001b[3;96mdef \u001b[0m\u001b[1;31mget_host_keys\u001b[0m\u001b[1m(\u001b[0m\u001b[1m)\u001b[0m:                                                              \u001b[34m│\u001b[0m\n",
       "\u001b[34m│\u001b[0m                               \u001b[2mGet the local `.HostKeys` object.  This can be used to examine the\u001b[0m                \u001b[34m│\u001b[0m\n",
       "\u001b[34m│\u001b[0m                               \u001b[2mlocal host keys or change them.\u001b[0m                                                   \u001b[34m│\u001b[0m\n",
       "\u001b[34m│\u001b[0m               \u001b[3;33mget_transport\u001b[0m = \u001b[3;96mdef \u001b[0m\u001b[1;31mget_transport\u001b[0m\u001b[1m(\u001b[0m\u001b[1m)\u001b[0m:                                                              \u001b[34m│\u001b[0m\n",
       "\u001b[34m│\u001b[0m                               \u001b[2mReturn the underlying `.Transport` object for this SSH connection.\u001b[0m                \u001b[34m│\u001b[0m\n",
       "\u001b[34m│\u001b[0m                               \u001b[2mThis can be used to perform lower-level tasks, like opening specific\u001b[0m              \u001b[34m│\u001b[0m\n",
       "\u001b[34m│\u001b[0m                               \u001b[2mkinds of channels.\u001b[0m                                                                \u001b[34m│\u001b[0m\n",
       "\u001b[34m│\u001b[0m                \u001b[3;33minvoke_shell\u001b[0m = \u001b[3;96mdef \u001b[0m\u001b[1;31minvoke_shell\u001b[0m\u001b[1m(\u001b[0m\u001b[33mterm\u001b[0m=\u001b[32m'vt100'\u001b[0m, \u001b[33mwidth\u001b[0m=\u001b[1;36m80\u001b[0m, \u001b[33mheight\u001b[0m=\u001b[1;36m24\u001b[0m, \u001b[33mwidth_pixels\u001b[0m=\u001b[1;36m0\u001b[0m,               \u001b[34m│\u001b[0m\n",
       "\u001b[34m│\u001b[0m                               \u001b[33mheight_pixels\u001b[0m=\u001b[1;36m0\u001b[0m, \u001b[33menvironment\u001b[0m=\u001b[3;35mNone\u001b[0m\u001b[1m)\u001b[0m:                                               \u001b[34m│\u001b[0m\n",
       "\u001b[34m│\u001b[0m                               \u001b[2mStart an interactive shell session on the SSH server.  A new `.Channel`\u001b[0m           \u001b[34m│\u001b[0m\n",
       "\u001b[34m│\u001b[0m                               \u001b[2mis opened and connected to a pseudo-terminal using the requested\u001b[0m                  \u001b[34m│\u001b[0m\n",
       "\u001b[34m│\u001b[0m                               \u001b[2mterminal type and size.\u001b[0m                                                           \u001b[34m│\u001b[0m\n",
       "\u001b[34m│\u001b[0m              \u001b[3;33mload_host_keys\u001b[0m = \u001b[3;96mdef \u001b[0m\u001b[1;31mload_host_keys\u001b[0m\u001b[1m(\u001b[0mfilename\u001b[1m)\u001b[0m:                                                     \u001b[34m│\u001b[0m\n",
       "\u001b[34m│\u001b[0m                               \u001b[2mLoad host keys from a local host-key file.  Host keys read with this\u001b[0m              \u001b[34m│\u001b[0m\n",
       "\u001b[34m│\u001b[0m                               \u001b[2mmethod will be checked after keys loaded via `load_system_host_keys`,\u001b[0m             \u001b[34m│\u001b[0m\n",
       "\u001b[34m│\u001b[0m                               \u001b[2mbut will be saved back by `save_host_keys` \u001b[0m\u001b[1;2m(\u001b[0m\u001b[2mso they can be modified\u001b[0m\u001b[1;2m)\u001b[0m\u001b[2m.\u001b[0m             \u001b[34m│\u001b[0m\n",
       "\u001b[34m│\u001b[0m                               \u001b[2mThe missing host key policy `.AutoAddPolicy` adds keys to this set and\u001b[0m            \u001b[34m│\u001b[0m\n",
       "\u001b[34m│\u001b[0m                               \u001b[2msaves them, when connecting to a previously-unknown server.\u001b[0m                       \u001b[34m│\u001b[0m\n",
       "\u001b[34m│\u001b[0m       \u001b[3;33mload_system_host_keys\u001b[0m = \u001b[3;96mdef \u001b[0m\u001b[1;31mload_system_host_keys\u001b[0m\u001b[1m(\u001b[0m\u001b[33mfilename\u001b[0m=\u001b[3;35mNone\u001b[0m\u001b[1m)\u001b[0m:                                         \u001b[34m│\u001b[0m\n",
       "\u001b[34m│\u001b[0m                               \u001b[2mLoad host keys from a system \u001b[0m\u001b[1;2m(\u001b[0m\u001b[2mread-only\u001b[0m\u001b[1;2m)\u001b[0m\u001b[2m file.  Host keys read with\u001b[0m               \u001b[34m│\u001b[0m\n",
       "\u001b[34m│\u001b[0m                               \u001b[2mthis method will not be saved back by `save_host_keys`.\u001b[0m                           \u001b[34m│\u001b[0m\n",
       "\u001b[34m│\u001b[0m                   \u001b[3;33mopen_sftp\u001b[0m = \u001b[3;96mdef \u001b[0m\u001b[1;31mopen_sftp\u001b[0m\u001b[1m(\u001b[0m\u001b[1m)\u001b[0m: \u001b[2mOpen an SFTP session on the SSH server.\u001b[0m                          \u001b[34m│\u001b[0m\n",
       "\u001b[34m│\u001b[0m              \u001b[3;33msave_host_keys\u001b[0m = \u001b[3;96mdef \u001b[0m\u001b[1;31msave_host_keys\u001b[0m\u001b[1m(\u001b[0mfilename\u001b[1m)\u001b[0m:                                                     \u001b[34m│\u001b[0m\n",
       "\u001b[34m│\u001b[0m                               \u001b[2mSave the host keys back to a file.  Only the host keys loaded with\u001b[0m                \u001b[34m│\u001b[0m\n",
       "\u001b[34m│\u001b[0m                               \u001b[2m`load_host_keys` \u001b[0m\u001b[1;2m(\u001b[0m\u001b[2mplus any added directly\u001b[0m\u001b[1;2m)\u001b[0m\u001b[2m will be saved -- not any\u001b[0m               \u001b[34m│\u001b[0m\n",
       "\u001b[34m│\u001b[0m                               \u001b[2mhost keys loaded with `load_system_host_keys`.\u001b[0m                                    \u001b[34m│\u001b[0m\n",
       "\u001b[34m│\u001b[0m             \u001b[3;33mset_log_channel\u001b[0m = \u001b[3;96mdef \u001b[0m\u001b[1;31mset_log_channel\u001b[0m\u001b[1m(\u001b[0mname\u001b[1m)\u001b[0m:                                                        \u001b[34m│\u001b[0m\n",
       "\u001b[34m│\u001b[0m                               \u001b[2mSet the channel for logging.  The default is ``\u001b[0m\u001b[2;32m\"paramiko.transport\"\u001b[0m\u001b[2m``\u001b[0m             \u001b[34m│\u001b[0m\n",
       "\u001b[34m│\u001b[0m                               \u001b[2mbut it can be set to anything you want.\u001b[0m                                           \u001b[34m│\u001b[0m\n",
       "\u001b[34m│\u001b[0m \u001b[3;33mset_missing_host_key_policy\u001b[0m = \u001b[3;96mdef \u001b[0m\u001b[1;31mset_missing_host_key_policy\u001b[0m\u001b[1m(\u001b[0mpolicy\u001b[1m)\u001b[0m: \u001b[2mSet policy to use when connecting to \u001b[0m    \u001b[34m│\u001b[0m\n",
       "\u001b[34m│\u001b[0m                               \u001b[2mservers without a known host key.\u001b[0m                                                 \u001b[34m│\u001b[0m\n",
       "\u001b[34m╰─────────────────────────────────────────────────────────────────────────────────────────────────────────────────╯\u001b[0m\n"
      ]
     },
     "metadata": {},
     "output_type": "display_data"
    }
   ],
   "source": [
    "client = SSHClient() \n",
    "host = '132.74.68.175'\n",
    "user = 'psylab-6028'\n",
    "password = '8X-Zpp()'\n",
    "\n",
    "known_hosts_path = os.path.expanduser('~/.ssh/known_hosts')\n",
    "client.load_host_keys(known_hosts_path)\n",
    "client.load_system_host_keys()\n",
    "\n",
    "client.set_missing_host_key_policy(AutoAddPolicy())\n",
    "\n",
    "client.connect('132.74.68.175', username='psylab-6028', password='8X-Zpp()')\n",
    "\n",
    "# sftp_session = client.open_sftp()\n",
    "client.set_log_channel('DEBUG')\n",
    "# print(f'Current directory: {sftp_session.getcwd()}')\n",
    "# sftp_session.chdir('/Users/edeneldar')\n",
    "# print(f'Current directory: {sftp_session.getcwd()}')\n",
    "# print(f'List of files: {sftp_session.listdir()}')\n",
    "# print(f'Connected to {dir(sftp_session)}')\n",
    "\n",
    "# stdin, stdout, stderr = client.exec_command('pwd')\n",
    "# print(stdout.read().decode())\n",
    "inspect(client, methods=True)\n",
    "client.close()\n",
    "# sftp_session.close()\n",
    "# stdin.close()\n",
    "# stdout.close()\n",
    "# stderr.close()"
   ]
  },
  {
   "cell_type": "code",
   "execution_count": 65,
   "metadata": {},
   "outputs": [
    {
     "data": {
      "text/html": [
       "<pre style=\"white-space:pre;overflow-x:auto;line-height:normal;font-family:Menlo,'DejaVu Sans Mono',consolas,'Courier New',monospace\"><span style=\"color: #800080; text-decoration-color: #800080\">/Users/</span><span style=\"color: #ff00ff; text-decoration-color: #ff00ff\">edeneldar</span>\n",
       "</pre>\n"
      ],
      "text/plain": [
       "\u001b[35m/Users/\u001b[0m\u001b[95medeneldar\u001b[0m\n"
      ]
     },
     "metadata": {},
     "output_type": "display_data"
    }
   ],
   "source": [
    "import paramiko\n",
    "from rich import print\n",
    "import time\n",
    "\n",
    "def run_command_real_time(hostname, port, username, password):\n",
    "    # Set up SSH client\n",
    "    ssh = paramiko.SSHClient()\n",
    "    ssh.set_missing_host_key_policy(paramiko.AutoAddPolicy())\n",
    "    ssh.connect(hostname, port=port, username=username, password=password)\n",
    "\n",
    "    # Open an interactive shell session\n",
    "    channel = ssh.invoke_shell()\n",
    "    \n",
    "    # Allow time for initial connection messages\n",
    "    time.sleep(1)\n",
    "    \n",
    "    # Clear any welcome messages from the server\n",
    "    if channel.recv_ready():\n",
    "        print(channel.recv(1024).decode('utf-8'), end=\"\")\n",
    "\n",
    "    print(\"[bold green]Interactive SSH session started. Type 'exit' to close.[/bold green]\")\n",
    "\n",
    "    while True:\n",
    "        # Get user input\n",
    "        command = input(\"ssh> \")\n",
    "        \n",
    "        if command.lower() == \"exit\":\n",
    "            print(\"[bold red]Closing session...[/bold red]\")\n",
    "            break\n",
    "        \n",
    "        time.sleep(0.5)\n",
    "\n",
    "        # Send command to the SSH session\n",
    "        channel.send(command + \"\\n\")\n",
    "\n",
    "        # Wait for command output\n",
    "        while not channel.recv_ready():\n",
    "            time.sleep(0.1)  # Slight delay to prevent excessive CPU usage\n",
    "\n",
    "        # Print command output\n",
    "        output = channel.recv(4096).decode('utf-8')\n",
    "        print(output, end=\"\")\n",
    "\n",
    "    # Close the SSH connection\n",
    "    ssh.close()\n",
    "\n",
    "\n",
    "run_command_real_time(\n",
    "    hostname=host,\n",
    "    port=22,  \n",
    "    username=user,\n",
    "    password=password,\n",
    "    command=\"pwd\"\n",
    ")"
   ]
  },
  {
   "cell_type": "code",
   "execution_count": 50,
   "metadata": {},
   "outputs": [
    {
     "data": {
      "text/html": [
       "<pre style=\"white-space:pre;overflow-x:auto;line-height:normal;font-family:Menlo,'DejaVu Sans Mono',consolas,'Courier New',monospace\"><span style=\"color: #800080; text-decoration-color: #800080\">/Users/</span><span style=\"color: #ff00ff; text-decoration-color: #ff00ff\">edeneldar</span>\n",
       "\n",
       "</pre>\n"
      ],
      "text/plain": [
       "\u001b[35m/Users/\u001b[0m\u001b[95medeneldar\u001b[0m\n",
       "\n"
      ]
     },
     "metadata": {},
     "output_type": "display_data"
    }
   ],
   "source": [
    "stdin, stdout, stderr = client.exec_command('pwd')\n",
    "\n",
    "if stdout.channel.recv_exit_status() == 0:\n",
    "    print(stdout.read().decode())\n",
    "else:\n",
    "    print(stderr.read().decode())"
   ]
  },
  {
   "cell_type": "code",
   "execution_count": 54,
   "metadata": {},
   "outputs": [],
   "source": [
    "stdin.close()\n",
    "stdout.close()\n",
    "stderr.close()\n",
    "client.close()"
   ]
  },
  {
   "cell_type": "code",
   "execution_count": 47,
   "metadata": {},
   "outputs": [
    {
     "data": {
      "text/html": [
       "<pre style=\"white-space:pre;overflow-x:auto;line-height:normal;font-family:Menlo,'DejaVu Sans Mono',consolas,'Courier New',monospace\"></pre>\n"
      ],
      "text/plain": []
     },
     "metadata": {},
     "output_type": "display_data"
    },
    {
     "data": {
      "text/plain": [
       "\u001b[32m'/Users/edeneldar\\n'\u001b[0m"
      ]
     },
     "execution_count": 47,
     "metadata": {},
     "output_type": "execute_result"
    }
   ],
   "source": [
    "stdout.read().decode('utf-8')\n",
    "# stdin.close()"
   ]
  },
  {
   "cell_type": "code",
   "execution_count": 32,
   "metadata": {},
   "outputs": [],
   "source": [
    "stdout.read().decode('utf-8')\n",
    "stdout.close()\n"
   ]
  },
  {
   "cell_type": "code",
   "execution_count": 38,
   "metadata": {},
   "outputs": [],
   "source": [
    "client.close()"
   ]
  },
  {
   "cell_type": "code",
   "execution_count": 16,
   "metadata": {},
   "outputs": [
    {
     "data": {
      "text/html": [
       "<pre style=\"white-space:pre;overflow-x:auto;line-height:normal;font-family:Menlo,'DejaVu Sans Mono',consolas,'Courier New',monospace\"><span style=\"color: #000080; text-decoration-color: #000080\">╭────────────────────────────────────── </span><span style=\"color: #000080; text-decoration-color: #000080; font-weight: bold\">&lt;</span><span style=\"color: #ff00ff; text-decoration-color: #ff00ff; font-weight: bold\">class</span><span style=\"color: #000000; text-decoration-color: #000000\"> </span><span style=\"color: #008000; text-decoration-color: #008000\">'paramiko.client.SSHClient'</span><span style=\"color: #000080; text-decoration-color: #000080; font-weight: bold\">&gt;</span><span style=\"color: #000080; text-decoration-color: #000080\"> ──────────────────────────────────────╮</span>\n",
       "<span style=\"color: #000080; text-decoration-color: #000080\">│</span> <span style=\"color: #008080; text-decoration-color: #008080\">A high-level representation of a session with an SSH server.  This class</span>                                        <span style=\"color: #000080; text-decoration-color: #000080\">│</span>\n",
       "<span style=\"color: #000080; text-decoration-color: #000080\">│</span> <span style=\"color: #008080; text-decoration-color: #008080\">wraps `.Transport`, `.Channel`, and `.SFTPClient` to take care of most</span>                                          <span style=\"color: #000080; text-decoration-color: #000080\">│</span>\n",
       "<span style=\"color: #000080; text-decoration-color: #000080\">│</span> <span style=\"color: #008080; text-decoration-color: #008080\">aspects of authenticating and opening channels.  A typical use case is::</span>                                        <span style=\"color: #000080; text-decoration-color: #000080\">│</span>\n",
       "<span style=\"color: #000080; text-decoration-color: #000080\">│</span>                                                                                                                 <span style=\"color: #000080; text-decoration-color: #000080\">│</span>\n",
       "<span style=\"color: #000080; text-decoration-color: #000080\">│</span> <span style=\"color: #008000; text-decoration-color: #008000\">╭─────────────────────────────────────────────────────────────────────────────────────────────────────────────╮</span> <span style=\"color: #000080; text-decoration-color: #000080\">│</span>\n",
       "<span style=\"color: #000080; text-decoration-color: #000080\">│</span> <span style=\"color: #008000; text-decoration-color: #008000\">│</span> <span style=\"font-weight: bold\">&lt;</span><span style=\"color: #ff00ff; text-decoration-color: #ff00ff; font-weight: bold\">paramiko.client.SSHClient</span><span style=\"color: #000000; text-decoration-color: #000000\"> object at </span><span style=\"color: #008080; text-decoration-color: #008080; font-weight: bold\">0x10b7cffd0</span><span style=\"font-weight: bold\">&gt;</span>                                                           <span style=\"color: #008000; text-decoration-color: #008000\">│</span> <span style=\"color: #000080; text-decoration-color: #000080\">│</span>\n",
       "<span style=\"color: #000080; text-decoration-color: #000080\">│</span> <span style=\"color: #008000; text-decoration-color: #008000\">╰─────────────────────────────────────────────────────────────────────────────────────────────────────────────╯</span> <span style=\"color: #000080; text-decoration-color: #000080\">│</span>\n",
       "<span style=\"color: #000080; text-decoration-color: #000080\">│</span>                                                                                                                 <span style=\"color: #000080; text-decoration-color: #000080\">│</span>\n",
       "<span style=\"color: #000080; text-decoration-color: #000080\">│</span>                       <span style=\"color: #808000; text-decoration-color: #808000; font-style: italic\">close</span> = <span style=\"color: #00ffff; text-decoration-color: #00ffff; font-style: italic\">def </span><span style=\"color: #800000; text-decoration-color: #800000; font-weight: bold\">close</span><span style=\"font-weight: bold\">()</span>: <span style=\"color: #7f7f7f; text-decoration-color: #7f7f7f\">Close this SSHClient and its underlying `.Transport`.</span>                <span style=\"color: #000080; text-decoration-color: #000080\">│</span>\n",
       "<span style=\"color: #000080; text-decoration-color: #000080\">│</span>                     <span style=\"color: #808000; text-decoration-color: #808000; font-style: italic\">connect</span> = <span style=\"color: #00ffff; text-decoration-color: #00ffff; font-style: italic\">def </span><span style=\"color: #800000; text-decoration-color: #800000; font-weight: bold\">connect</span><span style=\"font-weight: bold\">(</span>hostname, <span style=\"color: #808000; text-decoration-color: #808000\">port</span>=<span style=\"color: #008080; text-decoration-color: #008080; font-weight: bold\">22</span>, <span style=\"color: #808000; text-decoration-color: #808000\">username</span>=<span style=\"color: #800080; text-decoration-color: #800080; font-style: italic\">None</span>, <span style=\"color: #808000; text-decoration-color: #808000\">password</span>=<span style=\"color: #800080; text-decoration-color: #800080; font-style: italic\">None</span>, <span style=\"color: #808000; text-decoration-color: #808000\">pkey</span>=<span style=\"color: #800080; text-decoration-color: #800080; font-style: italic\">None</span>,           <span style=\"color: #000080; text-decoration-color: #000080\">│</span>\n",
       "<span style=\"color: #000080; text-decoration-color: #000080\">│</span>                               <span style=\"color: #808000; text-decoration-color: #808000\">key_filename</span>=<span style=\"color: #800080; text-decoration-color: #800080; font-style: italic\">None</span>, <span style=\"color: #808000; text-decoration-color: #808000\">timeout</span>=<span style=\"color: #800080; text-decoration-color: #800080; font-style: italic\">None</span>, <span style=\"color: #808000; text-decoration-color: #808000\">allow_agent</span>=<span style=\"color: #00ff00; text-decoration-color: #00ff00; font-style: italic\">True</span>, <span style=\"color: #808000; text-decoration-color: #808000\">look_for_keys</span>=<span style=\"color: #00ff00; text-decoration-color: #00ff00; font-style: italic\">True</span>,            <span style=\"color: #000080; text-decoration-color: #000080\">│</span>\n",
       "<span style=\"color: #000080; text-decoration-color: #000080\">│</span>                               <span style=\"color: #808000; text-decoration-color: #808000\">compress</span>=<span style=\"color: #ff0000; text-decoration-color: #ff0000; font-style: italic\">False</span>, <span style=\"color: #808000; text-decoration-color: #808000\">sock</span>=<span style=\"color: #800080; text-decoration-color: #800080; font-style: italic\">None</span>, <span style=\"color: #808000; text-decoration-color: #808000\">gss_auth</span>=<span style=\"color: #ff0000; text-decoration-color: #ff0000; font-style: italic\">False</span>, <span style=\"color: #808000; text-decoration-color: #808000\">gss_kex</span>=<span style=\"color: #ff0000; text-decoration-color: #ff0000; font-style: italic\">False</span>, <span style=\"color: #808000; text-decoration-color: #808000\">gss_deleg_creds</span>=<span style=\"color: #00ff00; text-decoration-color: #00ff00; font-style: italic\">True</span>,   <span style=\"color: #000080; text-decoration-color: #000080\">│</span>\n",
       "<span style=\"color: #000080; text-decoration-color: #000080\">│</span>                               <span style=\"color: #808000; text-decoration-color: #808000\">gss_host</span>=<span style=\"color: #800080; text-decoration-color: #800080; font-style: italic\">None</span>, <span style=\"color: #808000; text-decoration-color: #808000\">banner_timeout</span>=<span style=\"color: #800080; text-decoration-color: #800080; font-style: italic\">None</span>, <span style=\"color: #808000; text-decoration-color: #808000\">auth_timeout</span>=<span style=\"color: #800080; text-decoration-color: #800080; font-style: italic\">None</span>, <span style=\"color: #808000; text-decoration-color: #808000\">channel_timeout</span>=<span style=\"color: #800080; text-decoration-color: #800080; font-style: italic\">None</span>,      <span style=\"color: #000080; text-decoration-color: #000080\">│</span>\n",
       "<span style=\"color: #000080; text-decoration-color: #000080\">│</span>                               <span style=\"color: #808000; text-decoration-color: #808000\">gss_trust_dns</span>=<span style=\"color: #00ff00; text-decoration-color: #00ff00; font-style: italic\">True</span>, <span style=\"color: #808000; text-decoration-color: #808000\">passphrase</span>=<span style=\"color: #800080; text-decoration-color: #800080; font-style: italic\">None</span>, <span style=\"color: #808000; text-decoration-color: #808000\">disabled_algorithms</span>=<span style=\"color: #800080; text-decoration-color: #800080; font-style: italic\">None</span>,                    <span style=\"color: #000080; text-decoration-color: #000080\">│</span>\n",
       "<span style=\"color: #000080; text-decoration-color: #000080\">│</span>                               <span style=\"color: #808000; text-decoration-color: #808000\">transport_factory</span>=<span style=\"color: #800080; text-decoration-color: #800080; font-style: italic\">None</span>, <span style=\"color: #808000; text-decoration-color: #808000\">auth_strategy</span>=<span style=\"color: #800080; text-decoration-color: #800080; font-style: italic\">None</span><span style=\"font-weight: bold\">)</span>:                                      <span style=\"color: #000080; text-decoration-color: #000080\">│</span>\n",
       "<span style=\"color: #000080; text-decoration-color: #000080\">│</span>                               <span style=\"color: #7f7f7f; text-decoration-color: #7f7f7f\">Connect to an SSH server and authenticate to it.  The server's host key</span>           <span style=\"color: #000080; text-decoration-color: #000080\">│</span>\n",
       "<span style=\"color: #000080; text-decoration-color: #000080\">│</span>                               <span style=\"color: #7f7f7f; text-decoration-color: #7f7f7f\">is checked against the system host keys </span><span style=\"color: #7f7f7f; text-decoration-color: #7f7f7f; font-weight: bold\">(</span><span style=\"color: #7f7f7f; text-decoration-color: #7f7f7f\">see `load_system_host_keys`</span><span style=\"color: #7f7f7f; text-decoration-color: #7f7f7f; font-weight: bold\">)</span>             <span style=\"color: #000080; text-decoration-color: #000080\">│</span>\n",
       "<span style=\"color: #000080; text-decoration-color: #000080\">│</span>                               <span style=\"color: #7f7f7f; text-decoration-color: #7f7f7f\">and any local host keys </span><span style=\"color: #7f7f7f; text-decoration-color: #7f7f7f; font-weight: bold\">(</span><span style=\"color: #7f7f7f; text-decoration-color: #7f7f7f\">`load_host_keys`</span><span style=\"color: #7f7f7f; text-decoration-color: #7f7f7f; font-weight: bold\">)</span><span style=\"color: #7f7f7f; text-decoration-color: #7f7f7f\">.  If the server's hostname</span>             <span style=\"color: #000080; text-decoration-color: #000080\">│</span>\n",
       "<span style=\"color: #000080; text-decoration-color: #000080\">│</span>                               <span style=\"color: #7f7f7f; text-decoration-color: #7f7f7f\">is not found in either set of host keys, the missing host key policy</span>              <span style=\"color: #000080; text-decoration-color: #000080\">│</span>\n",
       "<span style=\"color: #000080; text-decoration-color: #000080\">│</span>                               <span style=\"color: #7f7f7f; text-decoration-color: #7f7f7f\">is used </span><span style=\"color: #7f7f7f; text-decoration-color: #7f7f7f; font-weight: bold\">(</span><span style=\"color: #7f7f7f; text-decoration-color: #7f7f7f\">see `set_missing_host_key_policy`</span><span style=\"color: #7f7f7f; text-decoration-color: #7f7f7f; font-weight: bold\">)</span><span style=\"color: #7f7f7f; text-decoration-color: #7f7f7f\">.  The default policy is</span>               <span style=\"color: #000080; text-decoration-color: #000080\">│</span>\n",
       "<span style=\"color: #000080; text-decoration-color: #000080\">│</span>                               <span style=\"color: #7f7f7f; text-decoration-color: #7f7f7f\">to reject the key and raise an `.SSHException`.</span>                                   <span style=\"color: #000080; text-decoration-color: #000080\">│</span>\n",
       "<span style=\"color: #000080; text-decoration-color: #000080\">│</span>                <span style=\"color: #808000; text-decoration-color: #808000; font-style: italic\">exec_command</span> = <span style=\"color: #00ffff; text-decoration-color: #00ffff; font-style: italic\">def </span><span style=\"color: #800000; text-decoration-color: #800000; font-weight: bold\">exec_command</span><span style=\"font-weight: bold\">(</span>command, <span style=\"color: #808000; text-decoration-color: #808000\">bufsize</span>=<span style=\"color: #008080; text-decoration-color: #008080; font-weight: bold\">-1</span>, <span style=\"color: #808000; text-decoration-color: #808000\">timeout</span>=<span style=\"color: #800080; text-decoration-color: #800080; font-style: italic\">None</span>, <span style=\"color: #808000; text-decoration-color: #808000\">get_pty</span>=<span style=\"color: #ff0000; text-decoration-color: #ff0000; font-style: italic\">False</span>,                <span style=\"color: #000080; text-decoration-color: #000080\">│</span>\n",
       "<span style=\"color: #000080; text-decoration-color: #000080\">│</span>                               <span style=\"color: #808000; text-decoration-color: #808000\">environment</span>=<span style=\"color: #800080; text-decoration-color: #800080; font-style: italic\">None</span><span style=\"font-weight: bold\">)</span>:                                                                <span style=\"color: #000080; text-decoration-color: #000080\">│</span>\n",
       "<span style=\"color: #000080; text-decoration-color: #000080\">│</span>                               <span style=\"color: #7f7f7f; text-decoration-color: #7f7f7f\">Execute a command on the SSH server.  A new `.Channel` is opened and</span>              <span style=\"color: #000080; text-decoration-color: #000080\">│</span>\n",
       "<span style=\"color: #000080; text-decoration-color: #000080\">│</span>                               <span style=\"color: #7f7f7f; text-decoration-color: #7f7f7f\">the requested command is executed.  The command's input and output</span>                <span style=\"color: #000080; text-decoration-color: #000080\">│</span>\n",
       "<span style=\"color: #000080; text-decoration-color: #000080\">│</span>                               <span style=\"color: #7f7f7f; text-decoration-color: #7f7f7f\">streams are returned as Python ``file``-like objects representing</span>                 <span style=\"color: #000080; text-decoration-color: #000080\">│</span>\n",
       "<span style=\"color: #000080; text-decoration-color: #000080\">│</span>                               <span style=\"color: #7f7f7f; text-decoration-color: #7f7f7f\">stdin, stdout, and stderr.</span>                                                        <span style=\"color: #000080; text-decoration-color: #000080\">│</span>\n",
       "<span style=\"color: #000080; text-decoration-color: #000080\">│</span>               <span style=\"color: #808000; text-decoration-color: #808000; font-style: italic\">get_host_keys</span> = <span style=\"color: #00ffff; text-decoration-color: #00ffff; font-style: italic\">def </span><span style=\"color: #800000; text-decoration-color: #800000; font-weight: bold\">get_host_keys</span><span style=\"font-weight: bold\">()</span>:                                                              <span style=\"color: #000080; text-decoration-color: #000080\">│</span>\n",
       "<span style=\"color: #000080; text-decoration-color: #000080\">│</span>                               <span style=\"color: #7f7f7f; text-decoration-color: #7f7f7f\">Get the local `.HostKeys` object.  This can be used to examine the</span>                <span style=\"color: #000080; text-decoration-color: #000080\">│</span>\n",
       "<span style=\"color: #000080; text-decoration-color: #000080\">│</span>                               <span style=\"color: #7f7f7f; text-decoration-color: #7f7f7f\">local host keys or change them.</span>                                                   <span style=\"color: #000080; text-decoration-color: #000080\">│</span>\n",
       "<span style=\"color: #000080; text-decoration-color: #000080\">│</span>               <span style=\"color: #808000; text-decoration-color: #808000; font-style: italic\">get_transport</span> = <span style=\"color: #00ffff; text-decoration-color: #00ffff; font-style: italic\">def </span><span style=\"color: #800000; text-decoration-color: #800000; font-weight: bold\">get_transport</span><span style=\"font-weight: bold\">()</span>:                                                              <span style=\"color: #000080; text-decoration-color: #000080\">│</span>\n",
       "<span style=\"color: #000080; text-decoration-color: #000080\">│</span>                               <span style=\"color: #7f7f7f; text-decoration-color: #7f7f7f\">Return the underlying `.Transport` object for this SSH connection.</span>                <span style=\"color: #000080; text-decoration-color: #000080\">│</span>\n",
       "<span style=\"color: #000080; text-decoration-color: #000080\">│</span>                               <span style=\"color: #7f7f7f; text-decoration-color: #7f7f7f\">This can be used to perform lower-level tasks, like opening specific</span>              <span style=\"color: #000080; text-decoration-color: #000080\">│</span>\n",
       "<span style=\"color: #000080; text-decoration-color: #000080\">│</span>                               <span style=\"color: #7f7f7f; text-decoration-color: #7f7f7f\">kinds of channels.</span>                                                                <span style=\"color: #000080; text-decoration-color: #000080\">│</span>\n",
       "<span style=\"color: #000080; text-decoration-color: #000080\">│</span>                <span style=\"color: #808000; text-decoration-color: #808000; font-style: italic\">invoke_shell</span> = <span style=\"color: #00ffff; text-decoration-color: #00ffff; font-style: italic\">def </span><span style=\"color: #800000; text-decoration-color: #800000; font-weight: bold\">invoke_shell</span><span style=\"font-weight: bold\">(</span><span style=\"color: #808000; text-decoration-color: #808000\">term</span>=<span style=\"color: #008000; text-decoration-color: #008000\">'vt100'</span>, <span style=\"color: #808000; text-decoration-color: #808000\">width</span>=<span style=\"color: #008080; text-decoration-color: #008080; font-weight: bold\">80</span>, <span style=\"color: #808000; text-decoration-color: #808000\">height</span>=<span style=\"color: #008080; text-decoration-color: #008080; font-weight: bold\">24</span>, <span style=\"color: #808000; text-decoration-color: #808000\">width_pixels</span>=<span style=\"color: #008080; text-decoration-color: #008080; font-weight: bold\">0</span>,               <span style=\"color: #000080; text-decoration-color: #000080\">│</span>\n",
       "<span style=\"color: #000080; text-decoration-color: #000080\">│</span>                               <span style=\"color: #808000; text-decoration-color: #808000\">height_pixels</span>=<span style=\"color: #008080; text-decoration-color: #008080; font-weight: bold\">0</span>, <span style=\"color: #808000; text-decoration-color: #808000\">environment</span>=<span style=\"color: #800080; text-decoration-color: #800080; font-style: italic\">None</span><span style=\"font-weight: bold\">)</span>:                                               <span style=\"color: #000080; text-decoration-color: #000080\">│</span>\n",
       "<span style=\"color: #000080; text-decoration-color: #000080\">│</span>                               <span style=\"color: #7f7f7f; text-decoration-color: #7f7f7f\">Start an interactive shell session on the SSH server.  A new `.Channel`</span>           <span style=\"color: #000080; text-decoration-color: #000080\">│</span>\n",
       "<span style=\"color: #000080; text-decoration-color: #000080\">│</span>                               <span style=\"color: #7f7f7f; text-decoration-color: #7f7f7f\">is opened and connected to a pseudo-terminal using the requested</span>                  <span style=\"color: #000080; text-decoration-color: #000080\">│</span>\n",
       "<span style=\"color: #000080; text-decoration-color: #000080\">│</span>                               <span style=\"color: #7f7f7f; text-decoration-color: #7f7f7f\">terminal type and size.</span>                                                           <span style=\"color: #000080; text-decoration-color: #000080\">│</span>\n",
       "<span style=\"color: #000080; text-decoration-color: #000080\">│</span>              <span style=\"color: #808000; text-decoration-color: #808000; font-style: italic\">load_host_keys</span> = <span style=\"color: #00ffff; text-decoration-color: #00ffff; font-style: italic\">def </span><span style=\"color: #800000; text-decoration-color: #800000; font-weight: bold\">load_host_keys</span><span style=\"font-weight: bold\">(</span>filename<span style=\"font-weight: bold\">)</span>:                                                     <span style=\"color: #000080; text-decoration-color: #000080\">│</span>\n",
       "<span style=\"color: #000080; text-decoration-color: #000080\">│</span>                               <span style=\"color: #7f7f7f; text-decoration-color: #7f7f7f\">Load host keys from a local host-key file.  Host keys read with this</span>              <span style=\"color: #000080; text-decoration-color: #000080\">│</span>\n",
       "<span style=\"color: #000080; text-decoration-color: #000080\">│</span>                               <span style=\"color: #7f7f7f; text-decoration-color: #7f7f7f\">method will be checked after keys loaded via `load_system_host_keys`,</span>             <span style=\"color: #000080; text-decoration-color: #000080\">│</span>\n",
       "<span style=\"color: #000080; text-decoration-color: #000080\">│</span>                               <span style=\"color: #7f7f7f; text-decoration-color: #7f7f7f\">but will be saved back by `save_host_keys` </span><span style=\"color: #7f7f7f; text-decoration-color: #7f7f7f; font-weight: bold\">(</span><span style=\"color: #7f7f7f; text-decoration-color: #7f7f7f\">so they can be modified</span><span style=\"color: #7f7f7f; text-decoration-color: #7f7f7f; font-weight: bold\">)</span><span style=\"color: #7f7f7f; text-decoration-color: #7f7f7f\">.</span>             <span style=\"color: #000080; text-decoration-color: #000080\">│</span>\n",
       "<span style=\"color: #000080; text-decoration-color: #000080\">│</span>                               <span style=\"color: #7f7f7f; text-decoration-color: #7f7f7f\">The missing host key policy `.AutoAddPolicy` adds keys to this set and</span>            <span style=\"color: #000080; text-decoration-color: #000080\">│</span>\n",
       "<span style=\"color: #000080; text-decoration-color: #000080\">│</span>                               <span style=\"color: #7f7f7f; text-decoration-color: #7f7f7f\">saves them, when connecting to a previously-unknown server.</span>                       <span style=\"color: #000080; text-decoration-color: #000080\">│</span>\n",
       "<span style=\"color: #000080; text-decoration-color: #000080\">│</span>       <span style=\"color: #808000; text-decoration-color: #808000; font-style: italic\">load_system_host_keys</span> = <span style=\"color: #00ffff; text-decoration-color: #00ffff; font-style: italic\">def </span><span style=\"color: #800000; text-decoration-color: #800000; font-weight: bold\">load_system_host_keys</span><span style=\"font-weight: bold\">(</span><span style=\"color: #808000; text-decoration-color: #808000\">filename</span>=<span style=\"color: #800080; text-decoration-color: #800080; font-style: italic\">None</span><span style=\"font-weight: bold\">)</span>:                                         <span style=\"color: #000080; text-decoration-color: #000080\">│</span>\n",
       "<span style=\"color: #000080; text-decoration-color: #000080\">│</span>                               <span style=\"color: #7f7f7f; text-decoration-color: #7f7f7f\">Load host keys from a system </span><span style=\"color: #7f7f7f; text-decoration-color: #7f7f7f; font-weight: bold\">(</span><span style=\"color: #7f7f7f; text-decoration-color: #7f7f7f\">read-only</span><span style=\"color: #7f7f7f; text-decoration-color: #7f7f7f; font-weight: bold\">)</span><span style=\"color: #7f7f7f; text-decoration-color: #7f7f7f\"> file.  Host keys read with</span>               <span style=\"color: #000080; text-decoration-color: #000080\">│</span>\n",
       "<span style=\"color: #000080; text-decoration-color: #000080\">│</span>                               <span style=\"color: #7f7f7f; text-decoration-color: #7f7f7f\">this method will not be saved back by `save_host_keys`.</span>                           <span style=\"color: #000080; text-decoration-color: #000080\">│</span>\n",
       "<span style=\"color: #000080; text-decoration-color: #000080\">│</span>                   <span style=\"color: #808000; text-decoration-color: #808000; font-style: italic\">open_sftp</span> = <span style=\"color: #00ffff; text-decoration-color: #00ffff; font-style: italic\">def </span><span style=\"color: #800000; text-decoration-color: #800000; font-weight: bold\">open_sftp</span><span style=\"font-weight: bold\">()</span>: <span style=\"color: #7f7f7f; text-decoration-color: #7f7f7f\">Open an SFTP session on the SSH server.</span>                          <span style=\"color: #000080; text-decoration-color: #000080\">│</span>\n",
       "<span style=\"color: #000080; text-decoration-color: #000080\">│</span>              <span style=\"color: #808000; text-decoration-color: #808000; font-style: italic\">save_host_keys</span> = <span style=\"color: #00ffff; text-decoration-color: #00ffff; font-style: italic\">def </span><span style=\"color: #800000; text-decoration-color: #800000; font-weight: bold\">save_host_keys</span><span style=\"font-weight: bold\">(</span>filename<span style=\"font-weight: bold\">)</span>:                                                     <span style=\"color: #000080; text-decoration-color: #000080\">│</span>\n",
       "<span style=\"color: #000080; text-decoration-color: #000080\">│</span>                               <span style=\"color: #7f7f7f; text-decoration-color: #7f7f7f\">Save the host keys back to a file.  Only the host keys loaded with</span>                <span style=\"color: #000080; text-decoration-color: #000080\">│</span>\n",
       "<span style=\"color: #000080; text-decoration-color: #000080\">│</span>                               <span style=\"color: #7f7f7f; text-decoration-color: #7f7f7f\">`load_host_keys` </span><span style=\"color: #7f7f7f; text-decoration-color: #7f7f7f; font-weight: bold\">(</span><span style=\"color: #7f7f7f; text-decoration-color: #7f7f7f\">plus any added directly</span><span style=\"color: #7f7f7f; text-decoration-color: #7f7f7f; font-weight: bold\">)</span><span style=\"color: #7f7f7f; text-decoration-color: #7f7f7f\"> will be saved -- not any</span>               <span style=\"color: #000080; text-decoration-color: #000080\">│</span>\n",
       "<span style=\"color: #000080; text-decoration-color: #000080\">│</span>                               <span style=\"color: #7f7f7f; text-decoration-color: #7f7f7f\">host keys loaded with `load_system_host_keys`.</span>                                    <span style=\"color: #000080; text-decoration-color: #000080\">│</span>\n",
       "<span style=\"color: #000080; text-decoration-color: #000080\">│</span>             <span style=\"color: #808000; text-decoration-color: #808000; font-style: italic\">set_log_channel</span> = <span style=\"color: #00ffff; text-decoration-color: #00ffff; font-style: italic\">def </span><span style=\"color: #800000; text-decoration-color: #800000; font-weight: bold\">set_log_channel</span><span style=\"font-weight: bold\">(</span>name<span style=\"font-weight: bold\">)</span>:                                                        <span style=\"color: #000080; text-decoration-color: #000080\">│</span>\n",
       "<span style=\"color: #000080; text-decoration-color: #000080\">│</span>                               <span style=\"color: #7f7f7f; text-decoration-color: #7f7f7f\">Set the channel for logging.  The default is ``</span><span style=\"color: #7fbf7f; text-decoration-color: #7fbf7f\">\"paramiko.transport\"</span><span style=\"color: #7f7f7f; text-decoration-color: #7f7f7f\">``</span>             <span style=\"color: #000080; text-decoration-color: #000080\">│</span>\n",
       "<span style=\"color: #000080; text-decoration-color: #000080\">│</span>                               <span style=\"color: #7f7f7f; text-decoration-color: #7f7f7f\">but it can be set to anything you want.</span>                                           <span style=\"color: #000080; text-decoration-color: #000080\">│</span>\n",
       "<span style=\"color: #000080; text-decoration-color: #000080\">│</span> <span style=\"color: #808000; text-decoration-color: #808000; font-style: italic\">set_missing_host_key_policy</span> = <span style=\"color: #00ffff; text-decoration-color: #00ffff; font-style: italic\">def </span><span style=\"color: #800000; text-decoration-color: #800000; font-weight: bold\">set_missing_host_key_policy</span><span style=\"font-weight: bold\">(</span>policy<span style=\"font-weight: bold\">)</span>: <span style=\"color: #7f7f7f; text-decoration-color: #7f7f7f\">Set policy to use when connecting to </span>    <span style=\"color: #000080; text-decoration-color: #000080\">│</span>\n",
       "<span style=\"color: #000080; text-decoration-color: #000080\">│</span>                               <span style=\"color: #7f7f7f; text-decoration-color: #7f7f7f\">servers without a known host key.</span>                                                 <span style=\"color: #000080; text-decoration-color: #000080\">│</span>\n",
       "<span style=\"color: #000080; text-decoration-color: #000080\">╰─────────────────────────────────────────────────────────────────────────────────────────────────────────────────╯</span>\n",
       "</pre>\n"
      ],
      "text/plain": [
       "\u001b[34m╭─\u001b[0m\u001b[34m─────────────────────────────────────\u001b[0m\u001b[34m \u001b[0m\u001b[1;34m<\u001b[0m\u001b[1;95mclass\u001b[0m\u001b[39m \u001b[0m\u001b[32m'paramiko.client.SSHClient'\u001b[0m\u001b[1;34m>\u001b[0m\u001b[34m \u001b[0m\u001b[34m─────────────────────────────────────\u001b[0m\u001b[34m─╮\u001b[0m\n",
       "\u001b[34m│\u001b[0m \u001b[36mA high-level representation of a session with an SSH server.  This class\u001b[0m                                        \u001b[34m│\u001b[0m\n",
       "\u001b[34m│\u001b[0m \u001b[36mwraps `.Transport`, `.Channel`, and `.SFTPClient` to take care of most\u001b[0m                                          \u001b[34m│\u001b[0m\n",
       "\u001b[34m│\u001b[0m \u001b[36maspects of authenticating and opening channels.  A typical use case is::\u001b[0m                                        \u001b[34m│\u001b[0m\n",
       "\u001b[34m│\u001b[0m                                                                                                                 \u001b[34m│\u001b[0m\n",
       "\u001b[34m│\u001b[0m \u001b[32m╭─────────────────────────────────────────────────────────────────────────────────────────────────────────────╮\u001b[0m \u001b[34m│\u001b[0m\n",
       "\u001b[34m│\u001b[0m \u001b[32m│\u001b[0m \u001b[1m<\u001b[0m\u001b[1;95mparamiko.client.SSHClient\u001b[0m\u001b[39m object at \u001b[0m\u001b[1;36m0x10b7cffd0\u001b[0m\u001b[1m>\u001b[0m                                                           \u001b[32m│\u001b[0m \u001b[34m│\u001b[0m\n",
       "\u001b[34m│\u001b[0m \u001b[32m╰─────────────────────────────────────────────────────────────────────────────────────────────────────────────╯\u001b[0m \u001b[34m│\u001b[0m\n",
       "\u001b[34m│\u001b[0m                                                                                                                 \u001b[34m│\u001b[0m\n",
       "\u001b[34m│\u001b[0m                       \u001b[3;33mclose\u001b[0m = \u001b[3;96mdef \u001b[0m\u001b[1;31mclose\u001b[0m\u001b[1m(\u001b[0m\u001b[1m)\u001b[0m: \u001b[2mClose this SSHClient and its underlying `.Transport`.\u001b[0m                \u001b[34m│\u001b[0m\n",
       "\u001b[34m│\u001b[0m                     \u001b[3;33mconnect\u001b[0m = \u001b[3;96mdef \u001b[0m\u001b[1;31mconnect\u001b[0m\u001b[1m(\u001b[0mhostname, \u001b[33mport\u001b[0m=\u001b[1;36m22\u001b[0m, \u001b[33musername\u001b[0m=\u001b[3;35mNone\u001b[0m, \u001b[33mpassword\u001b[0m=\u001b[3;35mNone\u001b[0m, \u001b[33mpkey\u001b[0m=\u001b[3;35mNone\u001b[0m,           \u001b[34m│\u001b[0m\n",
       "\u001b[34m│\u001b[0m                               \u001b[33mkey_filename\u001b[0m=\u001b[3;35mNone\u001b[0m, \u001b[33mtimeout\u001b[0m=\u001b[3;35mNone\u001b[0m, \u001b[33mallow_agent\u001b[0m=\u001b[3;92mTrue\u001b[0m, \u001b[33mlook_for_keys\u001b[0m=\u001b[3;92mTrue\u001b[0m,            \u001b[34m│\u001b[0m\n",
       "\u001b[34m│\u001b[0m                               \u001b[33mcompress\u001b[0m=\u001b[3;91mFalse\u001b[0m, \u001b[33msock\u001b[0m=\u001b[3;35mNone\u001b[0m, \u001b[33mgss_auth\u001b[0m=\u001b[3;91mFalse\u001b[0m, \u001b[33mgss_kex\u001b[0m=\u001b[3;91mFalse\u001b[0m, \u001b[33mgss_deleg_creds\u001b[0m=\u001b[3;92mTrue\u001b[0m,   \u001b[34m│\u001b[0m\n",
       "\u001b[34m│\u001b[0m                               \u001b[33mgss_host\u001b[0m=\u001b[3;35mNone\u001b[0m, \u001b[33mbanner_timeout\u001b[0m=\u001b[3;35mNone\u001b[0m, \u001b[33mauth_timeout\u001b[0m=\u001b[3;35mNone\u001b[0m, \u001b[33mchannel_timeout\u001b[0m=\u001b[3;35mNone\u001b[0m,      \u001b[34m│\u001b[0m\n",
       "\u001b[34m│\u001b[0m                               \u001b[33mgss_trust_dns\u001b[0m=\u001b[3;92mTrue\u001b[0m, \u001b[33mpassphrase\u001b[0m=\u001b[3;35mNone\u001b[0m, \u001b[33mdisabled_algorithms\u001b[0m=\u001b[3;35mNone\u001b[0m,                    \u001b[34m│\u001b[0m\n",
       "\u001b[34m│\u001b[0m                               \u001b[33mtransport_factory\u001b[0m=\u001b[3;35mNone\u001b[0m, \u001b[33mauth_strategy\u001b[0m=\u001b[3;35mNone\u001b[0m\u001b[1m)\u001b[0m:                                      \u001b[34m│\u001b[0m\n",
       "\u001b[34m│\u001b[0m                               \u001b[2mConnect to an SSH server and authenticate to it.  The server's host key\u001b[0m           \u001b[34m│\u001b[0m\n",
       "\u001b[34m│\u001b[0m                               \u001b[2mis checked against the system host keys \u001b[0m\u001b[1;2m(\u001b[0m\u001b[2msee `load_system_host_keys`\u001b[0m\u001b[1;2m)\u001b[0m             \u001b[34m│\u001b[0m\n",
       "\u001b[34m│\u001b[0m                               \u001b[2mand any local host keys \u001b[0m\u001b[1;2m(\u001b[0m\u001b[2m`load_host_keys`\u001b[0m\u001b[1;2m)\u001b[0m\u001b[2m.  If the server's hostname\u001b[0m             \u001b[34m│\u001b[0m\n",
       "\u001b[34m│\u001b[0m                               \u001b[2mis not found in either set of host keys, the missing host key policy\u001b[0m              \u001b[34m│\u001b[0m\n",
       "\u001b[34m│\u001b[0m                               \u001b[2mis used \u001b[0m\u001b[1;2m(\u001b[0m\u001b[2msee `set_missing_host_key_policy`\u001b[0m\u001b[1;2m)\u001b[0m\u001b[2m.  The default policy is\u001b[0m               \u001b[34m│\u001b[0m\n",
       "\u001b[34m│\u001b[0m                               \u001b[2mto reject the key and raise an `.SSHException`.\u001b[0m                                   \u001b[34m│\u001b[0m\n",
       "\u001b[34m│\u001b[0m                \u001b[3;33mexec_command\u001b[0m = \u001b[3;96mdef \u001b[0m\u001b[1;31mexec_command\u001b[0m\u001b[1m(\u001b[0mcommand, \u001b[33mbufsize\u001b[0m=\u001b[1;36m-1\u001b[0m, \u001b[33mtimeout\u001b[0m=\u001b[3;35mNone\u001b[0m, \u001b[33mget_pty\u001b[0m=\u001b[3;91mFalse\u001b[0m,                \u001b[34m│\u001b[0m\n",
       "\u001b[34m│\u001b[0m                               \u001b[33menvironment\u001b[0m=\u001b[3;35mNone\u001b[0m\u001b[1m)\u001b[0m:                                                                \u001b[34m│\u001b[0m\n",
       "\u001b[34m│\u001b[0m                               \u001b[2mExecute a command on the SSH server.  A new `.Channel` is opened and\u001b[0m              \u001b[34m│\u001b[0m\n",
       "\u001b[34m│\u001b[0m                               \u001b[2mthe requested command is executed.  The command's input and output\u001b[0m                \u001b[34m│\u001b[0m\n",
       "\u001b[34m│\u001b[0m                               \u001b[2mstreams are returned as Python ``file``-like objects representing\u001b[0m                 \u001b[34m│\u001b[0m\n",
       "\u001b[34m│\u001b[0m                               \u001b[2mstdin, stdout, and stderr.\u001b[0m                                                        \u001b[34m│\u001b[0m\n",
       "\u001b[34m│\u001b[0m               \u001b[3;33mget_host_keys\u001b[0m = \u001b[3;96mdef \u001b[0m\u001b[1;31mget_host_keys\u001b[0m\u001b[1m(\u001b[0m\u001b[1m)\u001b[0m:                                                              \u001b[34m│\u001b[0m\n",
       "\u001b[34m│\u001b[0m                               \u001b[2mGet the local `.HostKeys` object.  This can be used to examine the\u001b[0m                \u001b[34m│\u001b[0m\n",
       "\u001b[34m│\u001b[0m                               \u001b[2mlocal host keys or change them.\u001b[0m                                                   \u001b[34m│\u001b[0m\n",
       "\u001b[34m│\u001b[0m               \u001b[3;33mget_transport\u001b[0m = \u001b[3;96mdef \u001b[0m\u001b[1;31mget_transport\u001b[0m\u001b[1m(\u001b[0m\u001b[1m)\u001b[0m:                                                              \u001b[34m│\u001b[0m\n",
       "\u001b[34m│\u001b[0m                               \u001b[2mReturn the underlying `.Transport` object for this SSH connection.\u001b[0m                \u001b[34m│\u001b[0m\n",
       "\u001b[34m│\u001b[0m                               \u001b[2mThis can be used to perform lower-level tasks, like opening specific\u001b[0m              \u001b[34m│\u001b[0m\n",
       "\u001b[34m│\u001b[0m                               \u001b[2mkinds of channels.\u001b[0m                                                                \u001b[34m│\u001b[0m\n",
       "\u001b[34m│\u001b[0m                \u001b[3;33minvoke_shell\u001b[0m = \u001b[3;96mdef \u001b[0m\u001b[1;31minvoke_shell\u001b[0m\u001b[1m(\u001b[0m\u001b[33mterm\u001b[0m=\u001b[32m'vt100'\u001b[0m, \u001b[33mwidth\u001b[0m=\u001b[1;36m80\u001b[0m, \u001b[33mheight\u001b[0m=\u001b[1;36m24\u001b[0m, \u001b[33mwidth_pixels\u001b[0m=\u001b[1;36m0\u001b[0m,               \u001b[34m│\u001b[0m\n",
       "\u001b[34m│\u001b[0m                               \u001b[33mheight_pixels\u001b[0m=\u001b[1;36m0\u001b[0m, \u001b[33menvironment\u001b[0m=\u001b[3;35mNone\u001b[0m\u001b[1m)\u001b[0m:                                               \u001b[34m│\u001b[0m\n",
       "\u001b[34m│\u001b[0m                               \u001b[2mStart an interactive shell session on the SSH server.  A new `.Channel`\u001b[0m           \u001b[34m│\u001b[0m\n",
       "\u001b[34m│\u001b[0m                               \u001b[2mis opened and connected to a pseudo-terminal using the requested\u001b[0m                  \u001b[34m│\u001b[0m\n",
       "\u001b[34m│\u001b[0m                               \u001b[2mterminal type and size.\u001b[0m                                                           \u001b[34m│\u001b[0m\n",
       "\u001b[34m│\u001b[0m              \u001b[3;33mload_host_keys\u001b[0m = \u001b[3;96mdef \u001b[0m\u001b[1;31mload_host_keys\u001b[0m\u001b[1m(\u001b[0mfilename\u001b[1m)\u001b[0m:                                                     \u001b[34m│\u001b[0m\n",
       "\u001b[34m│\u001b[0m                               \u001b[2mLoad host keys from a local host-key file.  Host keys read with this\u001b[0m              \u001b[34m│\u001b[0m\n",
       "\u001b[34m│\u001b[0m                               \u001b[2mmethod will be checked after keys loaded via `load_system_host_keys`,\u001b[0m             \u001b[34m│\u001b[0m\n",
       "\u001b[34m│\u001b[0m                               \u001b[2mbut will be saved back by `save_host_keys` \u001b[0m\u001b[1;2m(\u001b[0m\u001b[2mso they can be modified\u001b[0m\u001b[1;2m)\u001b[0m\u001b[2m.\u001b[0m             \u001b[34m│\u001b[0m\n",
       "\u001b[34m│\u001b[0m                               \u001b[2mThe missing host key policy `.AutoAddPolicy` adds keys to this set and\u001b[0m            \u001b[34m│\u001b[0m\n",
       "\u001b[34m│\u001b[0m                               \u001b[2msaves them, when connecting to a previously-unknown server.\u001b[0m                       \u001b[34m│\u001b[0m\n",
       "\u001b[34m│\u001b[0m       \u001b[3;33mload_system_host_keys\u001b[0m = \u001b[3;96mdef \u001b[0m\u001b[1;31mload_system_host_keys\u001b[0m\u001b[1m(\u001b[0m\u001b[33mfilename\u001b[0m=\u001b[3;35mNone\u001b[0m\u001b[1m)\u001b[0m:                                         \u001b[34m│\u001b[0m\n",
       "\u001b[34m│\u001b[0m                               \u001b[2mLoad host keys from a system \u001b[0m\u001b[1;2m(\u001b[0m\u001b[2mread-only\u001b[0m\u001b[1;2m)\u001b[0m\u001b[2m file.  Host keys read with\u001b[0m               \u001b[34m│\u001b[0m\n",
       "\u001b[34m│\u001b[0m                               \u001b[2mthis method will not be saved back by `save_host_keys`.\u001b[0m                           \u001b[34m│\u001b[0m\n",
       "\u001b[34m│\u001b[0m                   \u001b[3;33mopen_sftp\u001b[0m = \u001b[3;96mdef \u001b[0m\u001b[1;31mopen_sftp\u001b[0m\u001b[1m(\u001b[0m\u001b[1m)\u001b[0m: \u001b[2mOpen an SFTP session on the SSH server.\u001b[0m                          \u001b[34m│\u001b[0m\n",
       "\u001b[34m│\u001b[0m              \u001b[3;33msave_host_keys\u001b[0m = \u001b[3;96mdef \u001b[0m\u001b[1;31msave_host_keys\u001b[0m\u001b[1m(\u001b[0mfilename\u001b[1m)\u001b[0m:                                                     \u001b[34m│\u001b[0m\n",
       "\u001b[34m│\u001b[0m                               \u001b[2mSave the host keys back to a file.  Only the host keys loaded with\u001b[0m                \u001b[34m│\u001b[0m\n",
       "\u001b[34m│\u001b[0m                               \u001b[2m`load_host_keys` \u001b[0m\u001b[1;2m(\u001b[0m\u001b[2mplus any added directly\u001b[0m\u001b[1;2m)\u001b[0m\u001b[2m will be saved -- not any\u001b[0m               \u001b[34m│\u001b[0m\n",
       "\u001b[34m│\u001b[0m                               \u001b[2mhost keys loaded with `load_system_host_keys`.\u001b[0m                                    \u001b[34m│\u001b[0m\n",
       "\u001b[34m│\u001b[0m             \u001b[3;33mset_log_channel\u001b[0m = \u001b[3;96mdef \u001b[0m\u001b[1;31mset_log_channel\u001b[0m\u001b[1m(\u001b[0mname\u001b[1m)\u001b[0m:                                                        \u001b[34m│\u001b[0m\n",
       "\u001b[34m│\u001b[0m                               \u001b[2mSet the channel for logging.  The default is ``\u001b[0m\u001b[2;32m\"paramiko.transport\"\u001b[0m\u001b[2m``\u001b[0m             \u001b[34m│\u001b[0m\n",
       "\u001b[34m│\u001b[0m                               \u001b[2mbut it can be set to anything you want.\u001b[0m                                           \u001b[34m│\u001b[0m\n",
       "\u001b[34m│\u001b[0m \u001b[3;33mset_missing_host_key_policy\u001b[0m = \u001b[3;96mdef \u001b[0m\u001b[1;31mset_missing_host_key_policy\u001b[0m\u001b[1m(\u001b[0mpolicy\u001b[1m)\u001b[0m: \u001b[2mSet policy to use when connecting to \u001b[0m    \u001b[34m│\u001b[0m\n",
       "\u001b[34m│\u001b[0m                               \u001b[2mservers without a known host key.\u001b[0m                                                 \u001b[34m│\u001b[0m\n",
       "\u001b[34m╰─────────────────────────────────────────────────────────────────────────────────────────────────────────────────╯\u001b[0m\n"
      ]
     },
     "metadata": {},
     "output_type": "display_data"
    }
   ],
   "source": [
    "inspect(client, methods=True)"
   ]
  },
  {
   "cell_type": "code",
   "execution_count": null,
   "metadata": {},
   "outputs": [],
   "source": []
  }
 ],
 "metadata": {
  "kernelspec": {
   "display_name": "new_base",
   "language": "python",
   "name": "python3"
  },
  "language_info": {
   "codemirror_mode": {
    "name": "ipython",
    "version": 3
   },
   "file_extension": ".py",
   "mimetype": "text/x-python",
   "name": "python",
   "nbconvert_exporter": "python",
   "pygments_lexer": "ipython3",
   "version": "3.11.9"
  }
 },
 "nbformat": 4,
 "nbformat_minor": 2
}
